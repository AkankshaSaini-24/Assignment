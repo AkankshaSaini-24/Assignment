{
 "cells": [
  {
   "cell_type": "code",
   "execution_count": 1,
   "id": "consolidated-minute",
   "metadata": {},
   "outputs": [
    {
     "data": {
      "text/plain": [
       "['.ipynb_checkpoints',\n",
       " 'customers.json',\n",
       " 'loan-2017-10.csv',\n",
       " 'loan-2017-11.csv',\n",
       " 'loan-2017-12.csv',\n",
       " 'loan-2018-1.csv',\n",
       " 'loan-2018-2.csv',\n",
       " 'loan-2018-3.csv',\n",
       " 'loan-2018-4.csv',\n",
       " 'loan-2018-5.csv',\n",
       " 'loan-2018-6.csv',\n",
       " 'loan-2019-1.csv',\n",
       " 'loan-2019-2.csv',\n",
       " 'loan-2019-3.csv',\n",
       " 'loan-2019-4.csv',\n",
       " 'loan-2019-5.csv',\n",
       " 'loan-2019-6.csv',\n",
       " 'loan_files_concatenate.ipynb',\n",
       " 'Untitled.ipynb',\n",
       " 'visits.csv']"
      ]
     },
     "execution_count": 1,
     "metadata": {},
     "output_type": "execute_result"
    }
   ],
   "source": [
    "import os\n",
    "os.listdir()"
   ]
  },
  {
   "cell_type": "code",
   "execution_count": 4,
   "id": "important-topic",
   "metadata": {},
   "outputs": [],
   "source": [
    "#Get all loan files data in one loan file\n",
    "import os\n",
    "import glob\n",
    "import pandas\n",
    "extension='csv'\n",
    "all_loanfiles = [i for i in glob.glob('loan*.{}'.format(extension))]\n",
    "#combine all files in the list\n",
    "combined_csv = pandas.concat([pandas.read_csv(f) for f in all_loanfiles ])\n",
    "#export to csv\n",
    "combined_csv.to_csv( \"All_Loans.csv\", index=False, encoding='utf-8-sig')\n"
   ]
  },
  {
   "cell_type": "code",
   "execution_count": 31,
   "id": "exotic-festival",
   "metadata": {},
   "outputs": [
    {
     "data": {
      "text/plain": [
       "['Done! Check you directory for the final file']"
      ]
     },
     "execution_count": 31,
     "metadata": {},
     "output_type": "execute_result"
    }
   ],
   "source": [
    "import os\n",
    "import glob\n",
    "import pandas\n",
    "import numpy\n",
    "import json\n",
    "import googletrans\n",
    "from googletrans import Translator\n",
    "translator = Translator()\n",
    "\n",
    "GoodLoanFile=pandas.read_csv(\"All_Loans.csv\")\n",
    "## Remove unnamed column from file\n",
    "GoodLoanFile=GoodLoanFile.drop(\"Unnamed: 0\",axis=1)\n",
    "\n",
    "##Remove special characters from WebVisit_id to get a proper Webvisit_id\n",
    "GoodLoanFile['webvisit_id'] = GoodLoanFile['webvisit_id'].astype(str).str.extract('(\\d+)')\n",
    "\n",
    "## Merge loan and visits files\n",
    "\n",
    "WebVisitFile= pandas.read_csv(\"visits.csv\")\n",
    "\n",
    "# Removed Unnamed and timestamp columns from visits file \n",
    "WebVisitFile=WebVisitFile.drop([\"Unnamed: 0\",\"timestamp\"],axis=1)\n",
    "WebVisitFile['id'] = WebVisitFile['id'].astype(str)\n",
    "#All Loan data Left joined with Visits data\n",
    "MergeVisit= pandas.merge(left=GoodLoanFile,right=WebVisitFile, how='left', left_on='webvisit_id', right_on='id')\n",
    "MergeVisit=MergeVisit.drop([\"id_y\"],axis=1)\n",
    "#Replaced NaN with an empty string for data to look better\n",
    "MergeVisit=MergeVisit.replace(numpy.NaN, '', regex=True)\n",
    "MergeVisit=MergeVisit.rename(columns={'id_x': 'loan_id'})\n",
    "\n",
    "##Merge Customer File data with merged Loan and visit data i.e MergeVisit dataframe\n",
    "\n",
    "CustomerData=pandas.read_json('http://rocker-data-engineering-task.storage.googleapis.com/data/customers.json',lines=True)\n",
    "\n",
    "# Merge Customer data to MergeVisit dataframe to have all data together\n",
    "CustomerLoanVisitData=pandas.merge(left=MergeVisit,right=CustomerData, how='left', left_on='user_id', right_on='id')\n",
    "CustomerLoanVisitData=CustomerLoanVisitData.drop([\"id\"], axis=1)\n",
    "#Rearranged Columns\n",
    "CustomerLoanVisitData=CustomerLoanVisitData[[\"user_id\",\"loan_id\",\"webvisit_id\",\"name\",\"gender\",\"birthday\",\"ssn\",\"city\",\"zip_code\",\"loan_amount\",\"interest\",\"loan_purpose\",\"outcome\",\"timestamp\",\"referrer\",\"campaign_name\"]]\n",
    "#sorted data on userid, by default it is sorted in ascending order\n",
    "CustomerLoanVisitData=CustomerLoanVisitData.sort_values(by=['user_id'])\n",
    "CustomerLoanVisitData.to_csv( \"CombinedData.csv\", index=False, encoding='utf-8-sig')\n",
    "Message=[\"Done! Check you directory for the final file\"]\n",
    "Message\n"
   ]
  },
  {
   "cell_type": "code",
   "execution_count": null,
   "id": "municipal-finish",
   "metadata": {},
   "outputs": [],
   "source": []
  }
 ],
 "metadata": {
  "kernelspec": {
   "display_name": "Python 3",
   "language": "python",
   "name": "python3"
  },
  "language_info": {
   "codemirror_mode": {
    "name": "ipython",
    "version": 3
   },
   "file_extension": ".py",
   "mimetype": "text/x-python",
   "name": "python",
   "nbconvert_exporter": "python",
   "pygments_lexer": "ipython3",
   "version": "3.9.1"
  }
 },
 "nbformat": 4,
 "nbformat_minor": 5
}
